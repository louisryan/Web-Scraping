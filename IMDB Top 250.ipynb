{
 "metadata": {
  "name": ""
 },
 "nbformat": 3,
 "nbformat_minor": 0,
 "worksheets": [
  {
   "cells": [
    {
     "cell_type": "heading",
     "level": 1,
     "metadata": {},
     "source": [
      "IMDB Top 250"
     ]
    },
    {
     "cell_type": "code",
     "collapsed": false,
     "input": [
      "from bs4 import BeautifulSoup\n",
      "from urllib2 import urlopen\n",
      "from time import sleep\n",
      "import pprint as pp"
     ],
     "language": "python",
     "metadata": {},
     "outputs": [],
     "prompt_number": 55
    },
    {
     "cell_type": "markdown",
     "metadata": {},
     "source": [
      "This is a utility function to return a souped version of the HTML page"
     ]
    },
    {
     "cell_type": "code",
     "collapsed": false,
     "input": [
      "def make_soup(url):\n",
      "    html = urlopen(url).read()\n",
      "    return BeautifulSoup(html, 'lxml')\n",
      "\n",
      "URL = 'http://www.imdb.com/chart/top?ref_=nv_ch_250_4'\n",
      "BASE_URL = 'http://www.imdb.com'"
     ],
     "language": "python",
     "metadata": {},
     "outputs": [],
     "prompt_number": 31
    },
    {
     "cell_type": "markdown",
     "metadata": {},
     "source": [
      "This function creates a list of urls to individual pages for the top 250 movies on IMDB"
     ]
    },
    {
     "cell_type": "code",
     "collapsed": false,
     "input": [
      "def get_movie_links(URL):\n",
      "    soup = make_soup(URL)\n",
      "    table = soup.find('tbody','lister-list')\n",
      "    links = [BASE_URL + dd.a['href'] for dd in table.findAll('td','titleColumn')]\n",
      "    return links\n",
      "\n",
      "# Test the method above - For some strange reason, only 54 movies are being returned\n",
      "links = get_movie_links()"
     ],
     "language": "python",
     "metadata": {},
     "outputs": [],
     "prompt_number": 32
    },
    {
     "cell_type": "markdown",
     "metadata": {},
     "source": [
      "Once we have the links for each page, we write a function to extract information from each of those pages - title, rating, genre, date and cast/staff"
     ]
    },
    {
     "cell_type": "code",
     "collapsed": false,
     "input": [
      "def get_movie_info(movie_url):\n",
      "        soup = make_soup(movie_url)\n",
      "        title = soup.find('span','itemprop').string\n",
      "        rating = soup.find('div','titlePageSprite star-box-giga-star').string\n",
      "        desc = soup.find('p', {'itemprop':'description'}).string\n",
      "        director = soup.find('a', {'itemprop':'url'}).string\n",
      "        \n",
      "        return { 'title'   : title,\n",
      "                 'rating'  : rating,\n",
      "                 'desc'    : desc,\n",
      "                 'director': director,\n",
      "               }\n",
      "    \n",
      "# Test the method above\n",
      "pp.pprint(get_movie_info(links[0]), indent=3)"
     ],
     "language": "python",
     "metadata": {},
     "outputs": [
      {
       "output_type": "stream",
       "stream": "stdout",
       "text": [
        "{  'desc': u'\\nTwo imprisoned men bond over a number of years, finding solace and eventual redemption through acts of common decency.',\n",
        "   'director': u'Frank Darabont',\n",
        "   'rating': u' 9.3 ',\n",
        "   'title': u'The Shawshank Redemption'}\n"
       ]
      }
     ],
     "prompt_number": 58
    },
    {
     "cell_type": "markdown",
     "metadata": {},
     "source": [
      "Once we have this, we can run the two method to scrape the main page and for each sub-directory, scrape relevant information:\n",
      "\n",
      "We use list comprehensions here cus we're shit hot at Python ;)"
     ]
    },
    {
     "cell_type": "code",
     "collapsed": false,
     "input": [
      "Movie_data = [get_movie_info(x) for x in links]"
     ],
     "language": "python",
     "metadata": {},
     "outputs": [],
     "prompt_number": 60
    },
    {
     "cell_type": "heading",
     "level": 3,
     "metadata": {},
     "source": [
      "Pandas Conversion"
     ]
    },
    {
     "cell_type": "markdown",
     "metadata": {},
     "source": [
      "We might want to convert this list of dictionaries to a format to perform easier analysis. Pandas is the perfect solution"
     ]
    },
    {
     "cell_type": "code",
     "collapsed": false,
     "input": [
      "Movie_data[0]"
     ],
     "language": "python",
     "metadata": {},
     "outputs": [
      {
       "metadata": {},
       "output_type": "pyout",
       "prompt_number": 64,
       "text": [
        "{'desc': u'\\nTwo imprisoned men bond over a number of years, finding solace and eventual redemption through acts of common decency.',\n",
        " 'director': u'Frank Darabont',\n",
        " 'rating': u' 9.3 ',\n",
        " 'title': u'The Shawshank Redemption'}"
       ]
      }
     ],
     "prompt_number": 64
    },
    {
     "cell_type": "code",
     "collapsed": false,
     "input": [
      "from pandas import DataFrame\n",
      "df = DataFrame.from_records(Movie_data)\n",
      "df.columns = ['Description', 'Director', 'Rating', 'Title']\n",
      "df.head()"
     ],
     "language": "python",
     "metadata": {},
     "outputs": [
      {
       "html": [
        "<div style=\"max-height:1000px;max-width:1500px;overflow:auto;\">\n",
        "<table border=\"1\" class=\"dataframe\">\n",
        "  <thead>\n",
        "    <tr style=\"text-align: right;\">\n",
        "      <th></th>\n",
        "      <th>Description</th>\n",
        "      <th>Director</th>\n",
        "      <th>Rating</th>\n",
        "      <th>Title</th>\n",
        "    </tr>\n",
        "  </thead>\n",
        "  <tbody>\n",
        "    <tr>\n",
        "      <th>0</th>\n",
        "      <td> \n",
        "Two imprisoned men bond over a number of year...</td>\n",
        "      <td>       Frank Darabont</td>\n",
        "      <td>  9.3 </td>\n",
        "      <td> The Shawshank Redemption</td>\n",
        "    </tr>\n",
        "    <tr>\n",
        "      <th>1</th>\n",
        "      <td> \n",
        "The aging patriarch of an organized crime dyn...</td>\n",
        "      <td> Francis Ford Coppola</td>\n",
        "      <td>  9.2 </td>\n",
        "      <td>            The Godfather</td>\n",
        "    </tr>\n",
        "    <tr>\n",
        "      <th>2</th>\n",
        "      <td> \n",
        "The early life and career of Vito Corleone in...</td>\n",
        "      <td> Francis Ford Coppola</td>\n",
        "      <td>  9.1 </td>\n",
        "      <td>   The Godfather: Part II</td>\n",
        "    </tr>\n",
        "    <tr>\n",
        "      <th>3</th>\n",
        "      <td> \n",
        "When Batman, Gordon and Harvey Dent launch an...</td>\n",
        "      <td>    Christopher Nolan</td>\n",
        "      <td>  9.0 </td>\n",
        "      <td>          The Dark Knight</td>\n",
        "    </tr>\n",
        "    <tr>\n",
        "      <th>4</th>\n",
        "      <td> \n",
        "The lives of two mob hit men, a boxer, a gang...</td>\n",
        "      <td>    Quentin Tarantino</td>\n",
        "      <td>  9.0 </td>\n",
        "      <td>             Pulp Fiction</td>\n",
        "    </tr>\n",
        "  </tbody>\n",
        "</table>\n",
        "<p>5 rows \u00d7 4 columns</p>\n",
        "</div>"
       ],
       "metadata": {},
       "output_type": "pyout",
       "prompt_number": 80,
       "text": [
        "                                         Description              Director  \\\n",
        "0  \n",
        "Two imprisoned men bond over a number of year...        Frank Darabont   \n",
        "1  \n",
        "The aging patriarch of an organized crime dyn...  Francis Ford Coppola   \n",
        "2  \n",
        "The early life and career of Vito Corleone in...  Francis Ford Coppola   \n",
        "3  \n",
        "When Batman, Gordon and Harvey Dent launch an...     Christopher Nolan   \n",
        "4  \n",
        "The lives of two mob hit men, a boxer, a gang...     Quentin Tarantino   \n",
        "\n",
        "  Rating                     Title  \n",
        "0   9.3   The Shawshank Redemption  \n",
        "1   9.2              The Godfather  \n",
        "2   9.1     The Godfather: Part II  \n",
        "3   9.0            The Dark Knight  \n",
        "4   9.0               Pulp Fiction  \n",
        "\n",
        "[5 rows x 4 columns]"
       ]
      }
     ],
     "prompt_number": 80
    },
    {
     "cell_type": "code",
     "collapsed": false,
     "input": [
      "from IPython.display import HTML\n",
      "\n",
      "def css_styling():\n",
      "    styles = open('custom.css', 'r').read()\n",
      "    return HTML(styles)\n",
      "\n",
      "css_styling()"
     ],
     "language": "python",
     "metadata": {},
     "outputs": [
      {
       "html": [
        "<style>\n",
        "    @font-face {\n",
        "        font-family: \"Computer Modern\";\n",
        "        src: url('http://9dbb143991406a7c655e-aa5fcb0a5a4ec34cff238a2d56ca4144.r56.cf5.rackcdn.com/cmunss.otf');\n",
        "    }\n",
        "    @font-face {\n",
        "        font-family: \"Computer Modern\";\n",
        "        font-weight: bold;\n",
        "        src: url('http://9dbb143991406a7c655e-aa5fcb0a5a4ec34cff238a2d56ca4144.r56.cf5.rackcdn.com/cmunsx.otf');\n",
        "    }\n",
        "    @font-face {\n",
        "        font-family: \"Computer Modern\";\n",
        "        font-style: oblique;\n",
        "        src: url('http://9dbb143991406a7c655e-aa5fcb0a5a4ec34cff238a2d56ca4144.r56.cf5.rackcdn.com/cmunsi.otf');\n",
        "    }\n",
        "    @font-face {\n",
        "        font-family: \"Computer Modern\";\n",
        "        font-weight: bold;\n",
        "        font-style: oblique;\n",
        "        src: url('http://9dbb143991406a7c655e-aa5fcb0a5a4ec34cff238a2d56ca4144.r56.cf5.rackcdn.com/cmunso.otf');\n",
        "    }\n",
        "    div.cell{\n",
        "        width:800px;\n",
        "        margin-left:16% !important;\n",
        "        margin-right:auto;\n",
        "    }\n",
        "    h1 {\n",
        "        font-family: Helvetica, serif;\n",
        "        text-align: center;\n",
        "    }\n",
        "    h4{\n",
        "        margin-top:12px;\n",
        "        margin-bottom: 3px;\n",
        "       }\n",
        "    div.text_cell_render{\n",
        "        font-family: Computer Modern, \"Helvetica Neue\", Arial, Helvetica, Geneva, sans-serif;\n",
        "        line-height: 120%;\n",
        "        font-size: 120%;\n",
        "        width:800px;\n",
        "        margin-left:auto;\n",
        "        margin-right:auto;\n",
        "    }\n",
        "    .CodeMirror{\n",
        "            font-family: \"Source Code Pro\", source-code-pro,Consolas, monospace;\n",
        "    }\n",
        "    .prompt{\n",
        "        display: None;\n",
        "    }\n",
        "    .text_cell_render h5 {\n",
        "        font-weight: 300;\n",
        "        font-size: 22pt;\n",
        "        color: #4057A1;\n",
        "        font-style: italic;\n",
        "        margin-bottom: .5em;\n",
        "        margin-top: 0.5em;\n",
        "        display: block;\n",
        "    }\n",
        "    \n",
        "    .warning{\n",
        "        color: rgb( 240, 20, 20 )\n",
        "        }  \n",
        "</style>\n",
        "<script>\n",
        "    MathJax.Hub.Config({\n",
        "                        TeX: {\n",
        "                           extensions: [\"AMSmath.js\"]\n",
        "                           },\n",
        "                tex2jax: {\n",
        "                    inlineMath: [ ['$','$'], [\"\\\\(\",\"\\\\)\"] ],\n",
        "                    displayMath: [ ['$$','$$'], [\"\\\\[\",\"\\\\]\"] ]\n",
        "                },\n",
        "                displayAlign: 'center', // Change this to 'center' to center equations.\n",
        "                \"HTML-CSS\": {\n",
        "                    styles: {'.MathJax_Display': {\"margin\": 4}}\n",
        "                }\n",
        "        });\n",
        "</script>"
       ],
       "metadata": {},
       "output_type": "pyout",
       "prompt_number": 13,
       "text": [
        "<IPython.core.display.HTML at 0x107a45c90>"
       ]
      }
     ],
     "prompt_number": 13
    }
   ],
   "metadata": {}
  }
 ]
}