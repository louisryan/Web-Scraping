{
 "metadata": {
  "name": ""
 },
 "nbformat": 3,
 "nbformat_minor": 0,
 "worksheets": [
  {
   "cells": [
    {
     "cell_type": "heading",
     "level": 1,
     "metadata": {},
     "source": [
      "Web Scraping"
     ]
    },
    {
     "cell_type": "code",
     "collapsed": false,
     "input": [
      "from bs4 import BeautifulSoup\n",
      "from urllib2 import urlopen\n",
      "from time import sleep\n",
      "\n",
      "import pandas as pd\n",
      "import numpy as np\n",
      "import pprint as pp"
     ],
     "language": "python",
     "metadata": {},
     "outputs": [],
     "prompt_number": 53
    },
    {
     "cell_type": "markdown",
     "metadata": {},
     "source": [
      "This piece of code scrapes multiple pages for winner and runner ups in the food and drink section of chicago reader. We store the results in a dictionary for further processing.\n",
      "\n",
      "The first function scrapes all of the category links from the food-drink section and stores each of the links in a list structure:"
     ]
    },
    {
     "cell_type": "code",
     "collapsed": false,
     "input": [
      "def make_soup(url):\n",
      "    html = urlopen(url).read()\n",
      "    return BeautifulSoup(html, 'lxml')"
     ],
     "language": "python",
     "metadata": {},
     "outputs": [],
     "prompt_number": 47
    },
    {
     "cell_type": "code",
     "collapsed": false,
     "input": [
      "BASE_URL = 'http://www.chicagoreader.com'\n",
      "section_url = BASE_URL + '/chicago/best-of-chicago-2011-food-drink/BestOf?oid=4106228'\n",
      "\n",
      "def get_category_links(section_url):\n",
      "    soup = make_soup(section_url)\n",
      "    boccat = soup.find(\"dl\", \"boccat\")\n",
      "    category_links = [BASE_URL + dd.a[\"href\"] for dd in boccat.findAll(\"dd\")]\n",
      "    return category_links\n",
      "\n",
      "categories = get_category_links('http://www.chicagoreader.com/chicago/best-of-chicago-2011-food-drink/BestOf?oid=4106228')"
     ],
     "language": "python",
     "metadata": {},
     "outputs": [],
     "prompt_number": 48
    },
    {
     "cell_type": "markdown",
     "metadata": {},
     "source": [
      "Now that we have our list of category links, we can go through each page and extract winners and runners-up. Again, we have to inspect which elements we're interested in:"
     ]
    },
    {
     "cell_type": "code",
     "collapsed": false,
     "input": [
      "def get_category_winners(category_url):\n",
      "    soup = make_soup(category_url)\n",
      "    category = soup.find('h1', 'headline').string\n",
      "    winner = [h2.string for h2 in soup.find('h2', 'boc1')]\n",
      "    runners_up = [h2.string for h2 in soup.findAll(\"h2\", \"boc2\")]\n",
      "\n",
      "    return { 'category'     : category,\n",
      "             'category_url' : category_url,\n",
      "             'winner'       : winner,\n",
      "             'runners_up'   : runners_up\n",
      "           }\n",
      "# Test method above\n",
      "#result = get_category_winners(category_links[0])"
     ],
     "language": "python",
     "metadata": {},
     "outputs": [],
     "prompt_number": 49
    },
    {
     "cell_type": "code",
     "collapsed": false,
     "input": [
      "final_result = []  # a list to store our dictionaries\n",
      "for category in categories:\n",
      "    winner = get_category_winners(category)\n",
      "    final_result.append(winner)\n",
      "    sleep(0.1)\n",
      "    \n",
      "print final_result"
     ],
     "language": "python",
     "metadata": {},
     "outputs": [
      {
       "output_type": "stream",
       "stream": "stdout",
       "text": [
        "[{'category': u\"Best restaurant that's been around forever and is still worth the trip\\xa0\", 'runners_up': [u'Frontera Grill', u'Chicago Diner  ', u'Sabatino\\u2019s', u'Twin Anchors'], 'winner': [u'Lula Cafe'], 'category_url': 'http://www.chicagoreader.com/chicago/BestOf?category=1979894&year=2011'}, {'category': u'Best fancy restaurant in Chicago\\xa0', 'runners_up': [u'Blackbird', u'Girl & the Goat', u'Green Zebra', u'The Publican'], 'winner': [u'Alinea '], 'category_url': 'http://www.chicagoreader.com/chicago/best-fancy-restaurant-in-chicago/BestOf?oid=4088017'}, {'category': u'Best bang for your buck\\xa0', 'runners_up': [u'Frasca Pizzeria & Wine Bar', u'Chutney Joe\\u2019s', u'\"My boyfriend!\"'], 'winner': [u'Big Star'], 'category_url': 'http://www.chicagoreader.com/chicago/best-bang-for-your-buck/BestOf?oid=4088018'}, {'category': u'Best chef\\xa0', 'runners_up': [u'Grant Achatz (Alinea, Next, The Aviary)', u'Stephanie Izard (Girl & the Goat)'], 'winner': [u'Rick Bayless (Frontera Grill, Topolobampo, Xoco)'], 'category_url': 'http://www.chicagoreader.com/chicago/best-chef/BestOf?oid=4088191'}, {'category': u'Best up-and-coming chef\\xa0', 'runners_up': [u'Jimmy Bannos Jr., The Purple Pig', u'Cesar Pineda, Ciao Amore Ristorante', u'Rodney Staton, Bite Cafe'], 'winner': [u'Jeremy Kiens, \\nDunlays on Clark'], 'category_url': 'http://www.chicagoreader.com/chicago/best-up-and-coming-chef/BestOf?oid=4088225'}, {'category': u'Best food blog\\xa0', 'runners_up': [u'LTHForum', u'Sky Full of Bacon', u'312 Dining Diva'], 'winner': [u'Eater Chicago'], 'category_url': 'http://www.chicagoreader.com/chicago/best-food-blog/BestOf?oid=4088227'}, {'category': u'Best ampersand restaurant\\xa0', 'runners_up': [u'Owen & Engine'], 'winner': [u'Longman & Eagle '], 'category_url': 'http://www.chicagoreader.com/chicago/best-ampersand-restaurant/BestOf?oid=4088228'}, {'category': u'Best restaurant name\\xa0', 'runners_up': [u'Cibo Matto', u'The Smoke Daddy'], 'winner': [u'Girl & the Goat'], 'category_url': 'http://www.chicagoreader.com/chicago/best-restaurant-name/BestOf?oid=4088229'}, {'category': u'Best new food trend\\xa0', 'runners_up': [u'Doughnuts', u'Cupcakes', u'Pork', u'Gastropubs', u'Small Plates', u'\\u201cEating at home\\u201d'], 'winner': [u'Food trucks'], 'category_url': 'http://www.chicagoreader.com/chicago/best-new-food-trend/BestOf?oid=4088231'}, {'category': u'Best cocktail list\\xa0', 'runners_up': [u'The Violet Hour', u'Sable Kitchen & Bar  '], 'winner': [u'The Whistler'], 'category_url': 'http://www.chicagoreader.com/chicago/best-cocktail-list/BestOf?oid=4088236'}, {'category': u'Best mixologist\\xa0', 'runners_up': [u'Jonny Abens, Roof on the Wit'], 'winner': [u'Paul McGee, the Whistler'], 'category_url': 'http://www.chicagoreader.com/chicago/best-mixologist/BestOf?oid=4088461'}, {'category': u'Best wine list\\xa0', 'runners_up': [u'Webster\\u2019s Wine Bar', u'Rootstock Wine & Beer Bar'], 'winner': [u'DOC Winebar'], 'category_url': 'http://www.chicagoreader.com/chicago/best-wine-list/BestOf?oid=4088462'}, {'category': u'Best sommelier\\xa0', 'runners_up': [u'Nick Luedde, The Tasting Room', u'Jeremy Quinn, Webster\\u2019s Wine Bar', u'Daniel Pilkey, Ria and Balsan '], 'winner': [u'Alpana Singh'], 'category_url': 'http://www.chicagoreader.com/chicago/best-sommelier/BestOf?oid=4088464'}, {'category': u'Best brewpub\\xa0', 'runners_up': [u'Goose Island Brewpub', u'Piece Brewery & Pizzeria'], 'winner': [u'Revolution Brewing Company'], 'category_url': 'http://www.chicagoreader.com/chicago/best-brewpub/BestOf?oid=4088465'}, {'category': u'Best local brew\\xa0', 'runners_up': [u'Goose Island 312 Urban Wheat Ale', u'Goose Island Matilda'], 'winner': [u'Half Acre Daisy Cutter Pale Ale'], 'category_url': 'http://www.chicagoreader.com/chicago/best-local-brew/BestOf?oid=4088468'}, {'category': u'Best wine shop\\xa0', 'runners_up': [u'In Fine Spirits', u'Life\\u2019s a Cabernet'], 'winner': [u'Lush Wine & Spirits'], 'category_url': 'http://www.chicagoreader.com/chicago/best-wine-shop/BestOf?oid=4088469'}, {'category': u'Best liquor store\\xa0', 'runners_up': [u'Vas Foremost Liquors', u'West Lakeview Liquors'], 'winner': [u'Binny\\u2019s Beverage Depot'], 'category_url': 'http://www.chicagoreader.com/chicago/best-liquor-store/BestOf?oid=4088470'}, {'category': u'Best BYOB\\xa0', 'runners_up': [u'Ciao Amore Ristorante', u'Coast Sushi ', u'90 Miles Cuban Cafe'], 'winner': [u'Tango Sur'], 'category_url': 'http://www.chicagoreader.com/chicago/best-byob/BestOf?oid=4088471'}, {'category': u'Best alfresco dining\\xa0', 'runners_up': [u'Roof on the Wit', u'Big Star'], 'winner': [u'Piccolo Sogno'], 'category_url': 'http://www.chicagoreader.com/chicago/best-alfresco-dining/BestOf?oid=4088472'}, {'category': u'Best late night\\xa0', 'runners_up': [u'Pick Me Up Cafe', u'Big Star'], 'winner': [u'Lockdown Bar & Grill'], 'category_url': 'http://www.chicagoreader.com/chicago/best-late-night/BestOf?oid=4088473'}, {'category': u'Best for kids\\xa0', 'runners_up': [u'Wishbone', u'Ed Debevic\\u2019s', u'Rainforest Cafe', u'\\u201cTo be locked in a cold, dark, soundproof room\\u201d'], 'winner': [u'Frasca Pizzeria & Wine Bar '], 'category_url': 'http://www.chicagoreader.com/chicago/best-for-kids/BestOf?oid=4088474'}, {'category': u'Best waitstaff\\xa0', 'runners_up': [u'Frasca Pizzeria & Wine Bar', u'Ciao Amore Ristorante'], 'winner': [u'Lockdown Bar & Grill'], 'category_url': 'http://www.chicagoreader.com/chicago/best-waitstaff/BestOf?oid=4088476'}, {'category': u'Best-looking waitstaff\\xa0', 'runners_up': [u'Longman & Eagle', u'Lula Cafe', u'Lockdown Bar & Grill'], 'winner': [u'The Smoke Daddy'], 'category_url': 'http://www.chicagoreader.com/chicago/best-looking-waitstaff/BestOf?oid=4088477'}, {'category': u'Best food festival\\xa0', 'runners_up': [u'Ribfest', u'Baconfest'], 'winner': [u'Taste of Chicago'], 'category_url': 'http://www.chicagoreader.com/chicago/best-food-festival/BestOf?oid=4088478'}, {'category': u'Best food truck\\xa0', 'runners_up': [u'Gaztro-Wagon ', u'The Southern Mac & Cheese Truck '], 'winner': [u'Tamalli Space Charros'], 'category_url': 'http://www.chicagoreader.com/chicago/best-food-truck/BestOf?oid=4088479'}, {'category': u'Best gourmet market\\xa0', 'runners_up': [u'Chicago French Market', u'Whole Foods Market'], 'winner': [u'Fox & Obel'], 'category_url': 'http://www.chicagoreader.com/chicago/best-gourmet-market/BestOf?oid=4088529'}, {'category': u'Best local grocer\\xa0', 'runners_up': [u'Dill Pickle Food Co-Op', u'Stanley\\u2019s Fruit & Vegetables'], 'winner': [u'Green Grocer'], 'category_url': 'http://www.chicagoreader.com/chicago/best-local-grocer/BestOf?oid=4088661'}, {'category': u'Best local food product\\xa0', 'runners_up': [u'Nice Cream', u'Co-Op Hot Sauce'], 'winner': [u'Vienna Beef Hot Dogs'], 'category_url': 'http://www.chicagoreader.com/chicago/best-local-food-product/BestOf?oid=4088662'}, {'category': u\"Best farmers' market\\xa0\", 'runners_up': [u'Logan Square Farmers\\u2019 Market', u'Lincoln Square Farmers\\u2019 Market'], 'winner': [u'Green City Market'], 'category_url': 'http://www.chicagoreader.com/chicago/best-farmers-market/BestOf?oid=4088668'}, {'category': u'Best butcher shop\\xa0', 'runners_up': [u'The Butcher & Larder  ', u'Gene\\u2019s Sausage Shop & Delicatessen', u'\\u201cFuck you, I\\u2019m a vegetarian!\\u201d'], 'winner': [u'Paulina Meat Market'], 'category_url': 'http://www.chicagoreader.com/chicago/best-butcher-shop/BestOf?oid=4088669'}, {'category': u'Best cheesemonger\\xa0', 'runners_up': [u'Marion Street Cheese Market', u'Whole Foods Market'], 'winner': [u'Pastoral Artisan Cheese, Bread & Wine'], 'category_url': 'http://www.chicagoreader.com/chicago/best-cheesemonger/BestOf?oid=4088670'}, {'category': u'Best barista\\xa0', 'runners_up': [u'Tim Ashorian, Bellezza Gelato Caffe', u'Greg Wolfson, Bleeding Heart Bakery'], 'winner': [u'Kristin Marks, Wormhole Coffee'], 'category_url': 'http://www.chicagoreader.com/chicago/best-barista/BestOf?oid=4088671'}, {'category': u'Best restaurant with a view\\xa0', 'runners_up': [u'Roof on the Wit', u'NoMi Kitchen'], 'winner': [u'The Signature Room at the 95th'], 'category_url': 'http://www.chicagoreader.com/chicago/best-restaurant-with-a-view/BestOf?oid=4088672'}, {'category': u'Best restaurant for romance\\xa0', 'runners_up': [u'Between Boutique Cafe & Lounge', u'DOC Wine Bar ', u'\\u201cI wouldn\\u2019t know\\u2014apparently Chicago\\u2019s ladies don\\u2019t like me.\\u201d'], 'winner': [u'Geja\\u2019s Cafe'], 'category_url': 'http://www.chicagoreader.com/chicago/best-restaurant-for-romance/BestOf?oid=4088674'}, {'category': u'Best restaurant for a cheap date\\xa0', 'runners_up': [u'The Smoke Daddy', u'Irazu'], 'winner': [u'Big Star'], 'category_url': 'http://www.chicagoreader.com/chicago/best-restaurant-for-a-cheap-date/BestOf?oid=4088679'}, {'category': u'Best neighborhood restaurant\\xa0', 'runners_up': [u'Dunlays on Clark', u'Ciao Amore Ristorante'], 'winner': [u'Lula Cafe'], 'category_url': 'http://www.chicagoreader.com/chicago/best-neighborhood-restaurant/BestOf?oid=4088680'}, {'category': u'Best bagels\\xa0', 'runners_up': [u'Bagel on Damen', u'Chicago Bagel Authority'], 'winner': [u'New York Bagel & Bialy'], 'category_url': 'http://www.chicagoreader.com/chicago/best-bagels/BestOf?oid=4088681'}, {'category': u'Best bakery\\xa0', 'runners_up': [u'Dinkel\\u2019s Bakery', u'Sweet Mandy B\\u2019s'], 'winner': [u'Bleeding Heart Bakery'], 'category_url': 'http://www.chicagoreader.com/chicago/best-bakery/BestOf?oid=4088697'}, {'category': u'Best barbecue\\xa0', 'runners_up': [u'The Smoke Daddy', u'Honky Tonk Barbeque'], 'winner': [u'Smoque'], 'category_url': 'http://www.chicagoreader.com/chicago/best-barbecue/BestOf?oid=4088858'}, {'category': u'Best breakfast\\xa0', 'runners_up': [u'Bongo Room', u'Over Easy Cafe'], 'winner': [u'M. Henry'], 'category_url': 'http://www.chicagoreader.com/chicago/best-breakfast/BestOf?oid=4088859'}, {'category': u'Best brunch\\xa0', 'runners_up': [u'M. Henry', u\"Tweet Let's Eat\"], 'winner': [u'Lula Cafe'], 'category_url': 'http://www.chicagoreader.com/chicago/best-brunch/BestOf?oid=4088860'}, {'category': u'Best burger\\xa0', 'runners_up': [u'Lockdown Bar & Grill', u'DMK Burger Bar'], 'winner': [u'Kuma\\u2019s Corner'], 'category_url': 'http://www.chicagoreader.com/chicago/best-burger/BestOf?oid=4088863'}, {'category': u'Best Chinese\\xa0', 'runners_up': [u'Friendship Chinese Restaurant', u'Sun Wah Bar-B-Que'], 'winner': [u'Lao Sze Chuan'], 'category_url': 'http://www.chicagoreader.com/chicago/best-chinese/BestOf?oid=4088864'}, {'category': u'Best coffee shop\\xa0', 'runners_up': [u'Bellezza Gelato Caffe', u'Wormhole Coffee'], 'winner': [u'Intelligentsia Coffee and Tea'], 'category_url': 'http://www.chicagoreader.com/chicago/best-coffee-shop/BestOf?oid=4088867'}, {'category': u'Best desserts\\xa0', 'runners_up': [u'Bleeding Heart Bakery', u'Dunlays on Clark'], 'winner': [u'Hot Chocolate'], 'category_url': 'http://www.chicagoreader.com/chicago/best-desserts/BestOf?oid=4088868'}, {'category': u'Best Greek\\xa0', 'runners_up': [u'Athenian Room', u'Athena', u'The Parthenon'], 'winner': [u'Greek Islands'], 'category_url': 'http://www.chicagoreader.com/chicago/best-greek/BestOf?oid=4088869'}, {'category': u'Best hot dog\\xa0', 'runners_up': [u'Superdawg', u'Portillo\\u2019s Hot Dogs'], 'winner': [u'Hot Doug\\u2019s'], 'category_url': 'http://www.chicagoreader.com/chicago/best-hot-dog/BestOf?oid=4088870'}, {'category': u'Best ice cream\\xa0', 'runners_up': [u'Black Dog Gelato', u'Bellezza Gelato Cafe'], 'winner': [u'Margie\\u2019s Candies'], 'category_url': 'http://www.chicagoreader.com/chicago/best-ice-cream/BestOf?oid=4088872'}, {'category': u'Best Indian restaurant\\xa0', 'runners_up': [u'Hema\\u2019s Kitchen', u'Cumin', u'Marigold'], 'winner': [u'Chutney Joe\\u2019s'], 'category_url': 'http://www.chicagoreader.com/chicago/best-indian-restaurant/BestOf?oid=4088873'}, {'category': u'Best Italian\\xa0', 'runners_up': [u'Ciao Amore Ristorante', u'Frasca Pizzeria & Wine Bar', u'Mia Francesca'], 'winner': [u'Cibo Matto'], 'category_url': 'http://www.chicagoreader.com/chicago/best-italian/BestOf?oid=4088875'}, {'category': u'Best Korean\\xa0', 'runners_up': [u'Cho Sun Ok Restaurant', u'Jin Ju'], 'winner': [u'San Soo Gab San'], 'category_url': 'http://www.chicagoreader.com/chicago/best-korean/BestOf?oid=4088876'}, {'category': u'Best Mexican\\xa0', 'runners_up': [u'Nuevo Leon', u'El Cid'], 'winner': [u'Frontera Grill'], 'category_url': 'http://www.chicagoreader.com/chicago/best-mexican/BestOf?oid=4092029'}, {'category': u'Best Middle Eastern\\xa0', 'runners_up': [u'Reza\\u2019s', u'Noon-O-Kabab'], 'winner': [u'Sultan\\u2019s Market'], 'category_url': 'http://www.chicagoreader.com/chicago/best-middle-eastern/BestOf?oid=4092030'}, {'category': u'Best pizza\\xa0', 'runners_up': [u'Piece', u'Pequod\\u2019s', u'Art of Pizza'], 'winner': [u'Lou Malnati\\u2019s'], 'category_url': 'http://www.chicagoreader.com/chicago/best-pizza/BestOf?oid=4092032'}, {'category': u'Best Polish\\xa0', 'runners_up': [], 'winner': [u'Podhalanka Polska Restauracja '], 'category_url': 'http://www.chicagoreader.com/chicago/best-polish/BestOf?oid=4092033'}, {'category': u'Best pub grub\\xa0', 'runners_up': [u'Revolution Brewing Company', u'Small Bar', u'Owen & Engine'], 'winner': [u'Hopleaf'], 'category_url': 'http://www.chicagoreader.com/chicago/best-pub-grub/BestOf?oid=4092035'}, {'category': u'Best sandwiches\\xa0', 'runners_up': [u'Bari Foods', u'Hannah\\u2019s Bretzel'], 'winner': [u'Jerry\\u2019s'], 'category_url': 'http://www.chicagoreader.com/chicago/best-sandwiches/BestOf?oid=4092038'}, {'category': u'Best seafood restaurant\\xa0', 'runners_up': [u'Joe\\u2019s Seafood, Prime Steak and Stone Crab ', u'Glenn\\u2019s Diner', u'GT Fish & Oyster'], 'winner': [u'Shaw\\u2019s Crab House'], 'category_url': 'http://www.chicagoreader.com/chicago/best-seafood-restaurant/BestOf?oid=4092160'}, {'category': u'Best steak house\\xa0', 'runners_up': [u'David Burke\\u2019s Primehouse', u'Chicago Cut Steakhouse', u'Gene & Georgetti'], 'winner': [u'Gibsons'], 'category_url': 'http://www.chicagoreader.com/chicago/best-steak-house/BestOf?oid=4092253'}, {'category': u'Best sushi\\xa0', 'runners_up': [u'Coast Sushi', u'Arami'], 'winner': [u'Tank Sushi'], 'category_url': 'http://www.chicagoreader.com/chicago/best-sushi/BestOf?oid=4092254'}, {'category': u'Best taqueria\\xa0', 'runners_up': [u'La Pasadita ', u'Taqueria Moran'], 'winner': [u'Big Star'], 'category_url': 'http://www.chicagoreader.com/chicago/best-taqueria/BestOf?oid=4092259'}, {'category': u'Best Thai\\xa0', 'runners_up': [u'Sticky Rice Thai', u'Spoon Thai'], 'winner': [u'Opart Thai House'], 'category_url': 'http://www.chicagoreader.com/chicago/best-thai/BestOf?oid=4092260'}, {'category': u'Best vegetarian\\xa0', 'runners_up': [u'The Handlebar', u'Green Zebra'], 'winner': [u'Chicago Diner'], 'category_url': 'http://www.chicagoreader.com/chicago/best-vegetarian/BestOf?oid=4092261'}, {'category': u'Best Vietnamese\\xa0', 'runners_up': [u'Hai Yen', u'RunPho 777', u'Nhu Lan Bakery'], 'winner': [u'Tank Noodle'], 'category_url': 'http://www.chicagoreader.com/chicago/best-vietnamese/BestOf?oid=4092262'}, {'category': u'Best Italian steak house where my dad felt at home in the 60s and I do now\\xa0', 'runners_up': [], 'winner': [u'Gene & Georgetti'], 'category_url': 'http://www.chicagoreader.com/chicago/best-italian-steak-house-where-my-dad-felt-at-home-in-the-60s-and-i-do-nowp/BestOf?oid=4101104'}, {'category': u'Best case of nostalgia, bordering on time travel\\xa0', 'runners_up': [], 'winner': [u'Wormhole Coffee'], 'category_url': 'http://www.chicagoreader.com/chicago/best-case-of-nostalgia-bordering-on-time-travel/BestOf?oid=4101105'}, {'category': None, 'runners_up': [], 'winner': [u'Lettuce Entertain You Enterprises'], 'category_url': 'http://www.chicagoreader.com/chicago/best-restaurant-empire-founded-the-same-year-as-the-reader/BestOf?oid=4101106'}, {'category': u'Best restaurant\\xa0', 'runners_up': [], 'winner': [u'Next'], 'category_url': 'http://www.chicagoreader.com/chicago/best-restaurant/BestOf?oid=4101107'}, {'category': u'Best bargain Michelin chef\\xa0', 'runners_up': [], 'winner': [u'Danny Grant, Balsan'], 'category_url': 'http://www.chicagoreader.com/chicago/best-bargain-michelin-chef/BestOf?oid=4101108'}, {'category': u'Best chef downshift, animal division\\xa0', 'runners_up': [], 'winner': [u'Rob Levitt, the Butcher & Larder'], 'category_url': 'http://www.chicagoreader.com/chicago/best-chef-downshift-animal-division/BestOf?oid=4101109'}, {'category': u'Best chef downshift, vegetable division\\xa0', 'runners_up': [], 'winner': [u'Art Jackson, Pleasant House Bakery'], 'category_url': 'http://www.chicagoreader.com/chicago/best-chef-downshift-vegetable-division/BestOf?oid=4101385'}, {'category': u'Best venerable restaurant alongside the el\\xa0', 'runners_up': [], 'winner': [u\"Daley's Restaurant\"], 'category_url': 'http://www.chicagoreader.com/chicago/best-venerable-restaurant-alongside-the-el/BestOf?oid=4101386'}, {'category': u'Best new food truck\\xa0', 'runners_up': [], 'winner': [u'The Southern Mac Truck'], 'category_url': 'http://www.chicagoreader.com/chicago/best-new-food-truckfood/BestOf?oid=4101387'}, {'category': u'Best buffet\\xa0', 'runners_up': [], 'winner': [u\"Ruby's Fast Food\"], 'category_url': 'http://www.chicagoreader.com/chicago/best-buffet/BestOf?oid=4101388'}, {'category': u'Best game day\\xa0', 'runners_up': [], 'winner': [u'Harvard Hunting Club Game Dinner'], 'category_url': 'http://www.chicagoreader.com/chicago/best-game-day/BestOf?oid=4101389'}, {'category': u'Best dairy product to camp out in front of the cheese shop for\\xa0', 'runners_up': [], 'winner': [u\"Uplands Cheese's Rush Creek Reserve\"], 'category_url': 'http://www.chicagoreader.com/chicago/best-dairy-product-to-camp-out-in-front-of-the-cheese-shop-for/BestOf?oid=4101390'}, {'category': u'Best use of alcohol at breakfast\\xa0', 'runners_up': [], 'winner': [u\"Burton's Maplewood Farm rum-infused maple syrup\"], 'category_url': 'http://www.chicagoreader.com/chicago/best-use-of-alcohol-at-breakfast/BestOf?oid=4101391'}, {'category': u'Best university coffeehouse\\xa0', 'runners_up': [], 'winner': [u'Hallowed Grounds'], 'category_url': 'http://www.chicagoreader.com/chicago/best-university-coffeehouse/BestOf?oid=4101393'}, {'category': u\"Best bakery you've never heard of\\xa0\", 'runners_up': [], 'winner': [u'Pastel Bakery'], 'category_url': 'http://www.chicagoreader.com/chicago/best-bakery-youve-never-heard-of/BestOf?oid=4101397'}, {'category': u'Best place to see bakers at work\\xa0', 'runners_up': [], 'winner': [u'Floriole Cafe and Bakery'], 'category_url': 'http://www.chicagoreader.com/chicago/best-place-to-see-bakers-at-work/BestOf?oid=4101398'}, {'category': u'Best place for ambience and egg sandwiches\\xa0', 'runners_up': [], 'winner': [u'Billy Goat Tavern'], 'category_url': 'http://www.chicagoreader.com/chicago/best-place-for-ambience-and-egg-sandwiches/BestOf?oid=4101399'}, {'category': u'Best bagel\\xa0', 'runners_up': [], 'winner': [u'New York Bagel & Bialy'], 'category_url': 'http://www.chicagoreader.com/chicago/best-bagel/BestOf?oid=4101410'}, {'category': u'Best tubular collaboration\\xa0', 'runners_up': [], 'winner': [u\"Lil' Johnny's birria sausages\"], 'category_url': 'http://www.chicagoreader.com/chicago/best-tubular-collaboration/BestOf?oid=4101411'}, {'category': u'Best sausage\\xa0', 'runners_up': [], 'winner': [u'Bobak Sausage Company'], 'category_url': 'http://www.chicagoreader.com/chicago/best-sausage/BestOf?oid=4101412'}, {'category': u\"Best place in Chicago to sample salumi from Mario Batali's papa\\xa0\", 'runners_up': [], 'winner': [u'694 Wine & Spirits'], 'category_url': 'http://www.chicagoreader.com/chicago/best-place-in-chicago-to-sample-salumi-from-mario-batalis-papa/BestOf?oid=4101413'}, {'category': u'Best broccoli and shells con patio\\xa0', 'runners_up': [], 'winner': [u\"Tufano's Vernon Park Tap\"], 'category_url': 'http://www.chicagoreader.com/chicago/best-broccoli-and-shells-con-patio/BestOf?oid=4101414'}, {'category': u'Best fancy-pants pizza special\\xa0', 'runners_up': [], 'winner': [u'Three Aces'], 'category_url': 'http://www.chicagoreader.com/chicago/best-fancy-pants-pizza-special/BestOf?oid=4101415'}, {'category': u'Best Polish-Mexican-American $1.50 taco\\xa0', 'runners_up': [], 'winner': [u'Loncars Liquors'], 'category_url': 'http://www.chicagoreader.com/chicago/best-polish-mexican-american-150-taco/BestOf?oid=4101416'}, {'category': u'Best tater tots\\xa0', 'runners_up': [], 'winner': [u'The Rocking Horse'], 'category_url': 'http://www.chicagoreader.com/chicago/best-tater-tots/BestOf?oid=4101417'}, {'category': u'Best spinach pie\\xa0', 'runners_up': [], 'winner': [u'Taza Bakery'], 'category_url': 'http://www.chicagoreader.com/chicago/best-spinach-pie/BestOf?oid=4101419'}, {'category': u'Best som tam\\xa0', 'runners_up': [], 'winner': [u'TAC Quick'], 'category_url': 'http://www.chicagoreader.com/chicago/best-som-tam/BestOf?oid=4101420'}, {'category': u'Best soundtracked strawberry shake\\xa0', 'runners_up': [], 'winner': [u'M Burger'], 'category_url': 'http://www.chicagoreader.com/chicago/best-soundtracked-strawberry-shake/BestOf?oid=4101498'}, {'category': u'Best newly minted (if loosely defined) neighborhood for destination dining\\xa0', 'runners_up': [], 'winner': [u'Noble Square'], 'category_url': 'http://www.chicagoreader.com/chicago/best-newly-minted-if-loosely-defined-neighborhood-for-destination-dining/BestOf?oid=4101624'}, {'category': u\"Best hangout after a day at Rogers Park's beaches\\xa0\", 'runners_up': [], 'winner': [u'RoPa Restaurant & Wine Bar'], 'category_url': 'http://www.chicagoreader.com/chicago/best-hangout-after-a-day-at-rogers-parks-beaches/BestOf?oid=4101655'}, {'category': u'Best few square blocks to eat really well, and cheaply\\xa0', 'runners_up': [], 'winner': [u'Lawrence between Rockwell and California'], 'category_url': 'http://www.chicagoreader.com/chicago/best-few-square-blocks-to-eat-really-well-and-cheaply/BestOf?oid=4101657'}, {'category': u'Best place to feel bad about gentrification but good about your meal\\xa0', 'runners_up': [], 'winner': [u'M. Henrietta'], 'category_url': 'http://www.chicagoreader.com/chicago/best-place-to-feel-bad-about-gentrification-but-good-about-your-meal/BestOf?oid=4101658'}, {'category': u'Best restaurant staff bent on making your day\\xa0', 'runners_up': [], 'winner': [u'Birchwood Kitchen'], 'category_url': 'http://www.chicagoreader.com/chicago/best-restaurant-staff-bent-on-making-your-day/BestOf?oid=4101659'}, {'category': u'Best one-woman kitchen\\xa0', 'runners_up': [], 'winner': [u'Noon Hour Grill'], 'category_url': 'http://www.chicagoreader.com/chicago/best-one-woman-kitchen/BestOf?oid=4101660'}, {'category': u'Most underrated James Beard Award winner\\xa0', 'runners_up': [], 'winner': [u'Justin Kaufmann, WBEZ'], 'category_url': 'http://www.chicagoreader.com/chicago/most-underrated-james-beard-award-winner/BestOf?oid=4101661'}, {'category': u'Best new food blog\\xa0', 'runners_up': [], 'winner': [u'mariobatalivoice.blogspot.com'], 'category_url': 'http://www.chicagoreader.com/chicago/best-new-food-blog/BestOf?oid=4101662'}, {'category': u'Best food blog written by a linguist\\xa0', 'runners_up': [], 'winner': [u'shesimmers.com'], 'category_url': 'http://www.chicagoreader.com/chicago/best-food-blog-written-by-a-linguist/BestOf?oid=4101663'}, {'category': u'Best place to eat and drink for a good cause\\xa0', 'runners_up': [], 'winner': [u'Blue Sky Bakery & Cafe'], 'category_url': 'http://www.chicagoreader.com/chicago/best-place-to-eat-and-drink-for-a-good-cause/BestOf?oid=4101664'}, {'category': u'Best CSA farmer to swoon over\\xa0', 'runners_up': [], 'winner': [u'Rob Montalbano of Montalbano Farms'], 'category_url': 'http://www.chicagoreader.com/chicago/best-csa-farmer-to-swoon-over/BestOf?oid=4101665'}, {'category': u\"Best canine control at a farmers' market\\xa0\", 'runners_up': [], 'winner': [u'Glenwood Sunday Market\\n'], 'category_url': 'http://www.chicagoreader.com/chicago/best-canine-control-at-a-farmers-market/BestOf?oid=4101666'}, {'category': u\"Best craft brewery that doesn't exist yet\\xa0\", 'runners_up': [], 'winner': [u'Pipeworks'], 'category_url': 'http://www.chicagoreader.com/chicago/best-craft-brewery-that-doesnt-exist-yet/BestOf?oid=4101667'}, {'category': u'Best cocktail book club\\xa0', 'runners_up': [], 'winner': [u'The Whistler'], 'category_url': 'http://www.chicagoreader.com/chicago/best-cocktail-book-club/BestOf?oid=4101668'}]\n"
       ]
      }
     ],
     "prompt_number": 56
    },
    {
     "cell_type": "code",
     "collapsed": false,
     "input": [],
     "language": "python",
     "metadata": {},
     "outputs": []
    },
    {
     "cell_type": "code",
     "collapsed": false,
     "input": [
      "from IPython.display import HTML\n",
      "\n",
      "def css_styling():\n",
      "    styles = open('custom.css', 'r').read()\n",
      "    return HTML(styles)\n",
      "\n",
      "css_styling()"
     ],
     "language": "python",
     "metadata": {},
     "outputs": [
      {
       "html": [
        "<style>\n",
        "    @font-face {\n",
        "        font-family: \"Computer Modern\";\n",
        "        src: url('http://9dbb143991406a7c655e-aa5fcb0a5a4ec34cff238a2d56ca4144.r56.cf5.rackcdn.com/cmunss.otf');\n",
        "    }\n",
        "    @font-face {\n",
        "        font-family: \"Computer Modern\";\n",
        "        font-weight: bold;\n",
        "        src: url('http://9dbb143991406a7c655e-aa5fcb0a5a4ec34cff238a2d56ca4144.r56.cf5.rackcdn.com/cmunsx.otf');\n",
        "    }\n",
        "    @font-face {\n",
        "        font-family: \"Computer Modern\";\n",
        "        font-style: oblique;\n",
        "        src: url('http://9dbb143991406a7c655e-aa5fcb0a5a4ec34cff238a2d56ca4144.r56.cf5.rackcdn.com/cmunsi.otf');\n",
        "    }\n",
        "    @font-face {\n",
        "        font-family: \"Computer Modern\";\n",
        "        font-weight: bold;\n",
        "        font-style: oblique;\n",
        "        src: url('http://9dbb143991406a7c655e-aa5fcb0a5a4ec34cff238a2d56ca4144.r56.cf5.rackcdn.com/cmunso.otf');\n",
        "    }\n",
        "    div.cell{\n",
        "        width:800px;\n",
        "        margin-left:16% !important;\n",
        "        margin-right:auto;\n",
        "    }\n",
        "    h1 {\n",
        "        font-family: Helvetica, serif;\n",
        "        text-align: center;\n",
        "    }\n",
        "    h4{\n",
        "        margin-top:12px;\n",
        "        margin-bottom: 3px;\n",
        "       }\n",
        "    div.text_cell_render{\n",
        "        font-family: Computer Modern, \"Helvetica Neue\", Arial, Helvetica, Geneva, sans-serif;\n",
        "        line-height: 120%;\n",
        "        font-size: 120%;\n",
        "        width:800px;\n",
        "        margin-left:auto;\n",
        "        margin-right:auto;\n",
        "    }\n",
        "    .CodeMirror{\n",
        "            font-family: \"Source Code Pro\", source-code-pro,Consolas, monospace;\n",
        "    }\n",
        "    .prompt{\n",
        "        display: None;\n",
        "    }\n",
        "    .text_cell_render h5 {\n",
        "        font-weight: 300;\n",
        "        font-size: 22pt;\n",
        "        color: #4057A1;\n",
        "        font-style: italic;\n",
        "        margin-bottom: .5em;\n",
        "        margin-top: 0.5em;\n",
        "        display: block;\n",
        "    }\n",
        "    \n",
        "    .warning{\n",
        "        color: rgb( 240, 20, 20 )\n",
        "        }  \n",
        "</style>\n",
        "<script>\n",
        "    MathJax.Hub.Config({\n",
        "                        TeX: {\n",
        "                           extensions: [\"AMSmath.js\"]\n",
        "                           },\n",
        "                tex2jax: {\n",
        "                    inlineMath: [ ['$','$'], [\"\\\\(\",\"\\\\)\"] ],\n",
        "                    displayMath: [ ['$$','$$'], [\"\\\\[\",\"\\\\]\"] ]\n",
        "                },\n",
        "                displayAlign: 'center', // Change this to 'center' to center equations.\n",
        "                \"HTML-CSS\": {\n",
        "                    styles: {'.MathJax_Display': {\"margin\": 4}}\n",
        "                }\n",
        "        });\n",
        "</script>"
       ],
       "metadata": {},
       "output_type": "pyout",
       "prompt_number": 3,
       "text": [
        "<IPython.core.display.HTML at 0x10744d150>"
       ]
      }
     ],
     "prompt_number": 3
    }
   ],
   "metadata": {}
  }
 ]
}