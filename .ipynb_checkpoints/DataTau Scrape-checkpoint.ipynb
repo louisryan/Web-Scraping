{
 "metadata": {
  "name": ""
 },
 "nbformat": 3,
 "nbformat_minor": 0,
 "worksheets": [
  {
   "cells": [
    {
     "cell_type": "heading",
     "level": 1,
     "metadata": {},
     "source": [
      "DataTau Web Scrape"
     ]
    },
    {
     "cell_type": "code",
     "collapsed": false,
     "input": [
      "from bs4 import BeautifulSoup\n",
      "from urllib2 import urlopen\n",
      "from time import sleep\n",
      "\n",
      "import pandas as pd\n",
      "import numpy as np\n",
      "import pprint as pp\n",
      "\n",
      "import mysql.connector as sql"
     ],
     "language": "python",
     "metadata": {},
     "outputs": [],
     "prompt_number": 16
    },
    {
     "cell_type": "heading",
     "level": 3,
     "metadata": {},
     "source": [
      "First Page"
     ]
    },
    {
     "cell_type": "markdown",
     "metadata": {},
     "source": [
      "The structure of Datatau pages is a very straightforward one. The only complicated element is that the page next link doesn't seem to be a structured one. Let's first get the links on the first page"
     ]
    },
    {
     "cell_type": "code",
     "collapsed": false,
     "input": [
      "homepage = 'http://www.datatau.com'\n",
      "#hdr = {'User-Agent':'Mozilla/5.0'}\n",
      "#homepage = 'https://news.ycombinator.com'"
     ],
     "language": "python",
     "metadata": {},
     "outputs": [],
     "prompt_number": 10
    },
    {
     "cell_type": "code",
     "collapsed": false,
     "input": [
      "def make_soup(url):\n",
      "    html = urlopen(url).read()\n",
      "    return BeautifulSoup(html)"
     ],
     "language": "python",
     "metadata": {},
     "outputs": [],
     "prompt_number": 11
    },
    {
     "cell_type": "markdown",
     "metadata": {},
     "source": [
      "The following method takes a URL as a parameter and returns the story name, link, points and user"
     ]
    },
    {
     "cell_type": "code",
     "collapsed": false,
     "input": [
      "def get_links(url):\n",
      "    soup = make_soup(url)\n",
      "    table = soup.find(\"table\", {'border':'0', 'cellpadding':'0'})\n",
      "    page_data = [] \n",
      "    for td in table.findAll('td', 'title')[1:]:\n",
      "        try: \n",
      "            st = td.findNext('td', 'subtext')   \n",
      "            page_data.append({'name' : td.find('a').string, 'link' : td.find('a')['href'],\n",
      "                              'points' : st.find('span').string, 'user' : st.find('a').string })\n",
      "        except:\n",
      "            pass\n",
      "    return page_data\n",
      "\n",
      "page_data = get_links(homepage)\n",
      "pp.pprint(page_data[0], indent=2)"
     ],
     "language": "python",
     "metadata": {},
     "outputs": [
      {
       "output_type": "stream",
       "stream": "stdout",
       "text": [
        "{ 'link': 'http://bugra.github.io/work/notes/2014-06-26/law-of-large-numbers-central-limit-theorem/',\n",
        "  'name': u'Law of Large Numbers and Central Limit Theorem',\n",
        "  'points': u'7 points',\n",
        "  'user': u'bugra'}\n"
       ]
      }
     ],
     "prompt_number": 12
    },
    {
     "cell_type": "markdown",
     "metadata": {},
     "source": [
      "This method simply retrieves the next page link by looking for the last td tag and appending the url to the base_url (www.datatau.com/link):\n",
      "\n",
      "One would argue that this is not an efficient method of retreiving the next page link and I'd agree! The only counter argument is that Web Scraping is often times a one off piece of task for a piece of analysis. For that reason it's better to be efficient then clever"
     ]
    },
    {
     "cell_type": "code",
     "collapsed": false,
     "input": [
      "def get_next_page(url):\n",
      "    soup = make_soup(url)\n",
      "    table = soup.find(\"table\", {'border':'0', 'cellpadding':'0'})\n",
      "    for td in table.findAll('td', 'title')[-1:]:\n",
      "        sub_link = td.findNext('a')['href']\n",
      "        if sub_link[0] != '/':\n",
      "            return\n",
      "        else:\n",
      "            return homepage + sub_link\n",
      "\n",
      "print(get_next_page(homepage))"
     ],
     "language": "python",
     "metadata": {},
     "outputs": [
      {
       "output_type": "stream",
       "stream": "stdout",
       "text": [
        "http://www.datatau.com/x?fnid=ivCT0Azsh6\n"
       ]
      }
     ],
     "prompt_number": 13
    },
    {
     "cell_type": "heading",
     "level": 3,
     "metadata": {},
     "source": [
      "Putting it together"
     ]
    },
    {
     "cell_type": "markdown",
     "metadata": {},
     "source": [
      "The next task is to put it all together in a repeatable fashion for all pages. \n",
      "\n",
      "1. For each link on the datatau.com page:\n",
      "    * scrape links\n",
      "2. Scrape next page url\n",
      "3. insert into MySQL database\n"
     ]
    },
    {
     "cell_type": "code",
     "collapsed": false,
     "input": [
      "link_data = []\n",
      "\n",
      "def scrape_all(url):\n",
      "    \n",
      "    # First get data and next page url for homepage\n",
      "    links = get_links(url)    \n",
      "    next_page_url = get_next_page(url)\n",
      "        \n",
      "    # Insert the data into data structure\n",
      "    link_data.append(links)\n",
      "    \n",
      "    # Perform a loop while there are more next page links\n",
      "    if next_page_url is not None:\n",
      "        \n",
      "        sleep( 1 )\n",
      "        # now call the method again using the new url\n",
      "        scrape_all(next_page_url)\n",
      "\n",
      "scrape_all(homepage)"
     ],
     "language": "python",
     "metadata": {},
     "outputs": [],
     "prompt_number": 17
    },
    {
     "cell_type": "heading",
     "level": 3,
     "metadata": {},
     "source": [
      "Pandas"
     ]
    },
    {
     "cell_type": "markdown",
     "metadata": {},
     "source": [
      "We can now append multiple lists of lists into a single Dataframe. This can then be used to perform analysis:"
     ]
    },
    {
     "cell_type": "code",
     "collapsed": false,
     "input": [
      "data = pd.DataFrame()\n",
      "for i in range(len(link_data)):\n",
      "    data = data.append(link_data[i])\n",
      "\n",
      "data.head()"
     ],
     "language": "python",
     "metadata": {},
     "outputs": [
      {
       "html": [
        "<div style=\"max-height:1000px;max-width:1500px;overflow:auto;\">\n",
        "<table border=\"1\" class=\"dataframe\">\n",
        "  <thead>\n",
        "    <tr style=\"text-align: right;\">\n",
        "      <th></th>\n",
        "      <th>link</th>\n",
        "      <th>name</th>\n",
        "      <th>points</th>\n",
        "      <th>user</th>\n",
        "    </tr>\n",
        "  </thead>\n",
        "  <tbody>\n",
        "    <tr>\n",
        "      <th>0</th>\n",
        "      <td> http://bugra.github.io/work/notes/2014-06-26/l...</td>\n",
        "      <td>    Law of Large Numbers and Central Limit Theorem</td>\n",
        "      <td> 7 points</td>\n",
        "      <td>       bugra</td>\n",
        "    </tr>\n",
        "    <tr>\n",
        "      <th>1</th>\n",
        "      <td> http://fastml.com/how-a-russian-mathematician-...</td>\n",
        "      <td> Russian mathematician constructed a decision t...</td>\n",
        "      <td> 2 points</td>\n",
        "      <td>    skadamat</td>\n",
        "    </tr>\n",
        "    <tr>\n",
        "      <th>2</th>\n",
        "      <td>          http://pluto.huji.ac.il/~msby/StatThink/</td>\n",
        "      <td> Introduction to Statistical Thinking (With R, ...</td>\n",
        "      <td> 6 points</td>\n",
        "      <td>      ebellm</td>\n",
        "    </tr>\n",
        "    <tr>\n",
        "      <th>3</th>\n",
        "      <td> http://fastml.com/extreme-learning-machines-an...</td>\n",
        "      <td> Extreme Learning Machines and optimizing hyper...</td>\n",
        "      <td> 4 points</td>\n",
        "      <td> nofreehunch</td>\n",
        "    </tr>\n",
        "    <tr>\n",
        "      <th>4</th>\n",
        "      <td> http://mlwave.com/predicting-click-through-rat...</td>\n",
        "      <td> Predicting Click-Through-Rates with Online Mac...</td>\n",
        "      <td> 7 points</td>\n",
        "      <td> nofreehunch</td>\n",
        "    </tr>\n",
        "  </tbody>\n",
        "</table>\n",
        "<p>5 rows \u00d7 4 columns</p>\n",
        "</div>"
       ],
       "metadata": {},
       "output_type": "pyout",
       "prompt_number": 18,
       "text": [
        "                                                link  \\\n",
        "0  http://bugra.github.io/work/notes/2014-06-26/l...   \n",
        "1  http://fastml.com/how-a-russian-mathematician-...   \n",
        "2           http://pluto.huji.ac.il/~msby/StatThink/   \n",
        "3  http://fastml.com/extreme-learning-machines-an...   \n",
        "4  http://mlwave.com/predicting-click-through-rat...   \n",
        "\n",
        "                                                name    points         user  \n",
        "0     Law of Large Numbers and Central Limit Theorem  7 points        bugra  \n",
        "1  Russian mathematician constructed a decision t...  2 points     skadamat  \n",
        "2  Introduction to Statistical Thinking (With R, ...  6 points       ebellm  \n",
        "3  Extreme Learning Machines and optimizing hyper...  4 points  nofreehunch  \n",
        "4  Predicting Click-Through-Rates with Online Mac...  7 points  nofreehunch  \n",
        "\n",
        "[5 rows x 4 columns]"
       ]
      }
     ],
     "prompt_number": 18
    },
    {
     "cell_type": "code",
     "collapsed": false,
     "input": [
      "from IPython.display import HTML\n",
      "def css_styling():\n",
      "    styles = open('custom.css', 'r').read()\n",
      "    return HTML(styles)\n",
      "\n",
      "css_styling()"
     ],
     "language": "python",
     "metadata": {},
     "outputs": [
      {
       "html": [
        "<style>\n",
        "    @font-face {\n",
        "        font-family: \"Computer Modern\";\n",
        "        src: url('http://9dbb143991406a7c655e-aa5fcb0a5a4ec34cff238a2d56ca4144.r56.cf5.rackcdn.com/cmunss.otf');\n",
        "    }\n",
        "    @font-face {\n",
        "        font-family: \"Computer Modern\";\n",
        "        font-weight: bold;\n",
        "        src: url('http://9dbb143991406a7c655e-aa5fcb0a5a4ec34cff238a2d56ca4144.r56.cf5.rackcdn.com/cmunsx.otf');\n",
        "    }\n",
        "    @font-face {\n",
        "        font-family: \"Computer Modern\";\n",
        "        font-style: oblique;\n",
        "        src: url('http://9dbb143991406a7c655e-aa5fcb0a5a4ec34cff238a2d56ca4144.r56.cf5.rackcdn.com/cmunsi.otf');\n",
        "    }\n",
        "    @font-face {\n",
        "        font-family: \"Computer Modern\";\n",
        "        font-weight: bold;\n",
        "        font-style: oblique;\n",
        "        src: url('http://9dbb143991406a7c655e-aa5fcb0a5a4ec34cff238a2d56ca4144.r56.cf5.rackcdn.com/cmunso.otf');\n",
        "    }\n",
        "    div.cell{\n",
        "        width:800px;\n",
        "        margin-left:16% !important;\n",
        "        margin-right:auto;\n",
        "    }\n",
        "    h1 {\n",
        "        font-family: Helvetica, serif;\n",
        "        text-align: center;\n",
        "    }\n",
        "    h4{\n",
        "        margin-top:12px;\n",
        "        margin-bottom: 3px;\n",
        "       }\n",
        "    div.text_cell_render{\n",
        "        font-family: Computer Modern, \"Helvetica Neue\", Arial, Helvetica, Geneva, sans-serif;\n",
        "        line-height: 120%;\n",
        "        font-size: 120%;\n",
        "        width:800px;\n",
        "        margin-left:auto;\n",
        "        margin-right:auto;\n",
        "    }\n",
        "    .CodeMirror{\n",
        "            font-family: \"Source Code Pro\", source-code-pro,Consolas, monospace;\n",
        "    }\n",
        "    .prompt{\n",
        "        display: None;\n",
        "    }\n",
        "    .text_cell_render h5 {\n",
        "        font-weight: 300;\n",
        "        font-size: 22pt;\n",
        "        color: #4057A1;\n",
        "        font-style: italic;\n",
        "        margin-bottom: .5em;\n",
        "        margin-top: 0.5em;\n",
        "        display: block;\n",
        "    }\n",
        "    \n",
        "    .warning{\n",
        "        color: rgb( 240, 20, 20 )\n",
        "        }  \n",
        "</style>\n",
        "<script>\n",
        "    MathJax.Hub.Config({\n",
        "                        TeX: {\n",
        "                           extensions: [\"AMSmath.js\"]\n",
        "                           },\n",
        "                tex2jax: {\n",
        "                    inlineMath: [ ['$','$'], [\"\\\\(\",\"\\\\)\"] ],\n",
        "                    displayMath: [ ['$$','$$'], [\"\\\\[\",\"\\\\]\"] ]\n",
        "                },\n",
        "                displayAlign: 'center', // Change this to 'center' to center equations.\n",
        "                \"HTML-CSS\": {\n",
        "                    styles: {'.MathJax_Display': {\"margin\": 4}}\n",
        "                }\n",
        "        });\n",
        "</script>"
       ],
       "metadata": {},
       "output_type": "pyout",
       "prompt_number": 21,
       "text": [
        "<IPython.core.display.HTML at 0x107569d90>"
       ]
      }
     ],
     "prompt_number": 21
    }
   ],
   "metadata": {}
  }
 ]
}